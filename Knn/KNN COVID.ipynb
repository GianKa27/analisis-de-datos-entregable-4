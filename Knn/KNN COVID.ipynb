{
 "cells": [
  {
   "cell_type": "code",
   "execution_count": 111,
   "id": "e8005b16",
   "metadata": {},
   "outputs": [],
   "source": [
    "import pandas as pd\n",
    "from sklearn.neighbors import KNeighborsClassifier\n",
    "from sklearn.model_selection import train_test_split\n",
    "from sklearn.metrics import accuracy_score\n",
    "from sklearn.preprocessing import StandardScaler"
   ]
  },
  {
   "cell_type": "code",
   "execution_count": 133,
   "id": "d3443894",
   "metadata": {},
   "outputs": [],
   "source": [
    "# Cargar tu base de datos en formato CSV (ajusta el nombre del archivo)\n",
    "data = pd.read_csv('data_covid1.csv')"
   ]
  },
  {
   "cell_type": "code",
   "execution_count": 134,
   "id": "fea316c4",
   "metadata": {},
   "outputs": [
    {
     "name": "stdout",
     "output_type": "stream",
     "text": [
      "        Fever  Tiredness  Dry-Cough  Difficulty-in-Breathing  Sore-Throat  \\\n",
      "0           1          1          1                        1            1   \n",
      "1           1          1          1                        1            1   \n",
      "2           1          1          1                        1            1   \n",
      "3           1          1          1                        1            1   \n",
      "4           1          1          1                        1            1   \n",
      "...       ...        ...        ...                      ...          ...   \n",
      "316795      0          0          0                        0            0   \n",
      "316796      0          0          0                        0            0   \n",
      "316797      0          0          0                        0            0   \n",
      "316798      0          0          0                        0            0   \n",
      "316799      0          0          0                        0            0   \n",
      "\n",
      "        None_Sympton  Pains  Nasal-Congestion  Runny-Nose  Diarrhea  ...  \\\n",
      "0                  0      1                 1           1         1  ...   \n",
      "1                  0      1                 1           1         1  ...   \n",
      "2                  0      1                 1           1         1  ...   \n",
      "3                  0      1                 1           1         1  ...   \n",
      "4                  0      1                 1           1         1  ...   \n",
      "...              ...    ...               ...         ...       ...  ...   \n",
      "316795             1      0                 0           0         0  ...   \n",
      "316796             1      0                 0           0         0  ...   \n",
      "316797             1      0                 0           0         0  ...   \n",
      "316798             1      0                 0           0         0  ...   \n",
      "316799             1      0                 0           0         0  ...   \n",
      "\n",
      "        Age_25-59  Age_60+  Gender_Female  Gender_Male  Gender_Transgender  \\\n",
      "0               0        0              0            1                   0   \n",
      "1               0        0              0            1                   0   \n",
      "2               0        0              0            1                   0   \n",
      "3               0        0              0            1                   0   \n",
      "4               0        0              0            1                   0   \n",
      "...           ...      ...            ...          ...                 ...   \n",
      "316795          0        1              0            0                   1   \n",
      "316796          0        1              0            0                   1   \n",
      "316797          0        1              0            0                   1   \n",
      "316798          0        1              0            0                   1   \n",
      "316799          0        1              0            0                   1   \n",
      "\n",
      "        Contact_Dont-Know  Contact_No  Contact_Yes  Country        Severityall  \n",
      "0                       0           0            1    China      Severity_Mild  \n",
      "1                       0           1            0    China      Severity_Mild  \n",
      "2                       1           0            0    China      Severity_Mild  \n",
      "3                       0           0            1    China  Severity_Moderate  \n",
      "4                       0           1            0    China  Severity_Moderate  \n",
      "...                   ...         ...          ...      ...                ...  \n",
      "316795                  0           1            0    Other    Severity_Severe  \n",
      "316796                  1           0            0    Other    Severity_Severe  \n",
      "316797                  0           0            1    Other      Severity_None  \n",
      "316798                  0           1            0    Other      Severity_None  \n",
      "316799                  1           0            0    Other      Severity_None  \n",
      "\n",
      "[316800 rows x 24 columns]\n"
     ]
    }
   ],
   "source": [
    "print(data)"
   ]
  },
  {
   "cell_type": "code",
   "execution_count": 162,
   "id": "bb3af7c5",
   "metadata": {},
   "outputs": [],
   "source": [
    "# data.iloc[:, :-1].values: Esto selecciona todas las filas (:) y todas las columnas excepto la última (:-1). La variable X contendrá estas características. En otras palabras, X contendrá todas las columnas de tu conjunto de datos excepto la última.\n",
    "\n",
    "# data.iloc[:, -1].values: Esto selecciona todas las filas (:) y solo la última columna (-1). La variable y contendrá estas etiquetas. En otras palabras, y contendrá solo la última columna de tu conjunto de datos, que asumimos que contiene las etiquetas.\n",
    "X = data.iloc[:, :-2].values\n",
    "y = data.iloc[:, -1].values"
   ]
  },
  {
   "cell_type": "code",
   "execution_count": 163,
   "id": "4654b042",
   "metadata": {},
   "outputs": [],
   "source": [
    "# Dividir el conjunto de datos en conjuntos de entrenamiento y prueba\n",
    "X_train, X_test, y_train, y_test = train_test_split(X, y, test_size=0.2, random_state=42)"
   ]
  },
  {
   "cell_type": "code",
   "execution_count": 164,
   "id": "c7dd4e6f",
   "metadata": {},
   "outputs": [
    {
     "name": "stdout",
     "output_type": "stream",
     "text": [
      "Tamaño del conjunto de entrenamiento: 253440\n",
      "Tamaño del conjunto de prueba: 63360\n"
     ]
    }
   ],
   "source": [
    "print(f'Tamaño del conjunto de entrenamiento: {len(X_train)}')\n",
    "print(f'Tamaño del conjunto de prueba: {len(X_test)}')"
   ]
  },
  {
   "cell_type": "code",
   "execution_count": 165,
   "id": "56305814",
   "metadata": {},
   "outputs": [],
   "source": [
    "# Normalizar las características (opcional pero a menudo útil)\n",
    "scaler = StandardScaler()\n",
    "X_train = scaler.fit_transform(X_train)\n",
    "X_test = scaler.transform(X_test)"
   ]
  },
  {
   "cell_type": "code",
   "execution_count": 166,
   "id": "ab64662c",
   "metadata": {},
   "outputs": [],
   "source": [
    "# Crear el clasificador KNN con, por ejemplo, k=3\n",
    "knn_classifier = KNeighborsClassifier(n_neighbors=3)\n"
   ]
  },
  {
   "cell_type": "code",
   "execution_count": 167,
   "id": "f78d5d74",
   "metadata": {},
   "outputs": [
    {
     "data": {
      "text/html": [
       "<style>#sk-container-id-13 {color: black;}#sk-container-id-13 pre{padding: 0;}#sk-container-id-13 div.sk-toggleable {background-color: white;}#sk-container-id-13 label.sk-toggleable__label {cursor: pointer;display: block;width: 100%;margin-bottom: 0;padding: 0.3em;box-sizing: border-box;text-align: center;}#sk-container-id-13 label.sk-toggleable__label-arrow:before {content: \"▸\";float: left;margin-right: 0.25em;color: #696969;}#sk-container-id-13 label.sk-toggleable__label-arrow:hover:before {color: black;}#sk-container-id-13 div.sk-estimator:hover label.sk-toggleable__label-arrow:before {color: black;}#sk-container-id-13 div.sk-toggleable__content {max-height: 0;max-width: 0;overflow: hidden;text-align: left;background-color: #f0f8ff;}#sk-container-id-13 div.sk-toggleable__content pre {margin: 0.2em;color: black;border-radius: 0.25em;background-color: #f0f8ff;}#sk-container-id-13 input.sk-toggleable__control:checked~div.sk-toggleable__content {max-height: 200px;max-width: 100%;overflow: auto;}#sk-container-id-13 input.sk-toggleable__control:checked~label.sk-toggleable__label-arrow:before {content: \"▾\";}#sk-container-id-13 div.sk-estimator input.sk-toggleable__control:checked~label.sk-toggleable__label {background-color: #d4ebff;}#sk-container-id-13 div.sk-label input.sk-toggleable__control:checked~label.sk-toggleable__label {background-color: #d4ebff;}#sk-container-id-13 input.sk-hidden--visually {border: 0;clip: rect(1px 1px 1px 1px);clip: rect(1px, 1px, 1px, 1px);height: 1px;margin: -1px;overflow: hidden;padding: 0;position: absolute;width: 1px;}#sk-container-id-13 div.sk-estimator {font-family: monospace;background-color: #f0f8ff;border: 1px dotted black;border-radius: 0.25em;box-sizing: border-box;margin-bottom: 0.5em;}#sk-container-id-13 div.sk-estimator:hover {background-color: #d4ebff;}#sk-container-id-13 div.sk-parallel-item::after {content: \"\";width: 100%;border-bottom: 1px solid gray;flex-grow: 1;}#sk-container-id-13 div.sk-label:hover label.sk-toggleable__label {background-color: #d4ebff;}#sk-container-id-13 div.sk-serial::before {content: \"\";position: absolute;border-left: 1px solid gray;box-sizing: border-box;top: 0;bottom: 0;left: 50%;z-index: 0;}#sk-container-id-13 div.sk-serial {display: flex;flex-direction: column;align-items: center;background-color: white;padding-right: 0.2em;padding-left: 0.2em;position: relative;}#sk-container-id-13 div.sk-item {position: relative;z-index: 1;}#sk-container-id-13 div.sk-parallel {display: flex;align-items: stretch;justify-content: center;background-color: white;position: relative;}#sk-container-id-13 div.sk-item::before, #sk-container-id-13 div.sk-parallel-item::before {content: \"\";position: absolute;border-left: 1px solid gray;box-sizing: border-box;top: 0;bottom: 0;left: 50%;z-index: -1;}#sk-container-id-13 div.sk-parallel-item {display: flex;flex-direction: column;z-index: 1;position: relative;background-color: white;}#sk-container-id-13 div.sk-parallel-item:first-child::after {align-self: flex-end;width: 50%;}#sk-container-id-13 div.sk-parallel-item:last-child::after {align-self: flex-start;width: 50%;}#sk-container-id-13 div.sk-parallel-item:only-child::after {width: 0;}#sk-container-id-13 div.sk-dashed-wrapped {border: 1px dashed gray;margin: 0 0.4em 0.5em 0.4em;box-sizing: border-box;padding-bottom: 0.4em;background-color: white;}#sk-container-id-13 div.sk-label label {font-family: monospace;font-weight: bold;display: inline-block;line-height: 1.2em;}#sk-container-id-13 div.sk-label-container {text-align: center;}#sk-container-id-13 div.sk-container {/* jupyter's `normalize.less` sets `[hidden] { display: none; }` but bootstrap.min.css set `[hidden] { display: none !important; }` so we also need the `!important` here to be able to override the default hidden behavior on the sphinx rendered scikit-learn.org. See: https://github.com/scikit-learn/scikit-learn/issues/21755 */display: inline-block !important;position: relative;}#sk-container-id-13 div.sk-text-repr-fallback {display: none;}</style><div id=\"sk-container-id-13\" class=\"sk-top-container\"><div class=\"sk-text-repr-fallback\"><pre>KNeighborsClassifier(n_neighbors=3)</pre><b>In a Jupyter environment, please rerun this cell to show the HTML representation or trust the notebook. <br />On GitHub, the HTML representation is unable to render, please try loading this page with nbviewer.org.</b></div><div class=\"sk-container\" hidden><div class=\"sk-item\"><div class=\"sk-estimator sk-toggleable\"><input class=\"sk-toggleable__control sk-hidden--visually\" id=\"sk-estimator-id-13\" type=\"checkbox\" checked><label for=\"sk-estimator-id-13\" class=\"sk-toggleable__label sk-toggleable__label-arrow\">KNeighborsClassifier</label><div class=\"sk-toggleable__content\"><pre>KNeighborsClassifier(n_neighbors=3)</pre></div></div></div></div></div>"
      ],
      "text/plain": [
       "KNeighborsClassifier(n_neighbors=3)"
      ]
     },
     "execution_count": 167,
     "metadata": {},
     "output_type": "execute_result"
    }
   ],
   "source": [
    "# Entrenar el modelo con el conjunto de entrenamiento\n",
    "knn_classifier.fit(X_train, y_train)"
   ]
  },
  {
   "cell_type": "code",
   "execution_count": 168,
   "id": "40f00cc8",
   "metadata": {},
   "outputs": [
    {
     "name": "stdout",
     "output_type": "stream",
     "text": [
      "Modelo entrenado con éxito.\n"
     ]
    }
   ],
   "source": [
    "print('Modelo entrenado con éxito.')"
   ]
  },
  {
   "cell_type": "code",
   "execution_count": 169,
   "id": "46c85a75",
   "metadata": {},
   "outputs": [],
   "source": [
    "# Realizar predicciones en el conjunto de prueba\n",
    "predictions = knn_classifier.predict(X_test)"
   ]
  },
  {
   "cell_type": "code",
   "execution_count": 170,
   "id": "59b78b67",
   "metadata": {},
   "outputs": [
    {
     "name": "stdout",
     "output_type": "stream",
     "text": [
      "Predicciones en el conjunto de prueba:\n",
      "Predicción: Severity_Mild, Etiqueta real: Severity_Moderate\n",
      "Predicción: Severity_None, Etiqueta real: Severity_Mild\n",
      "Predicción: Severity_Severe, Etiqueta real: Severity_None\n",
      "Predicción: Severity_Mild, Etiqueta real: Severity_Severe\n",
      "Predicción: Severity_None, Etiqueta real: Severity_Mild\n"
     ]
    }
   ],
   "source": [
    "print('Predicciones en el conjunto de prueba:')\n",
    "for i in range(5):  # Muestra las primeras 5 predicciones para ilustrar\n",
    "    print(f'Predicción: {predictions[i]}, Etiqueta real: {y_test[i]}')"
   ]
  },
  {
   "cell_type": "code",
   "execution_count": 173,
   "id": "5830c1b1",
   "metadata": {},
   "outputs": [
    {
     "name": "stdout",
     "output_type": "stream",
     "text": [
      "Precisión del modelo: 22.58%\n"
     ]
    }
   ],
   "source": [
    "# Evaluar la precisión del modelo\n",
    "accuracy = accuracy_score(y_test, predictions)\n",
    "print(f'Precisión del modelo: {accuracy * 100:.2f}%')"
   ]
  },
  {
   "cell_type": "code",
   "execution_count": null,
   "id": "0e1b0814",
   "metadata": {},
   "outputs": [],
   "source": []
  },
  {
   "cell_type": "code",
   "execution_count": null,
   "id": "cbc436a9",
   "metadata": {},
   "outputs": [],
   "source": []
  }
 ],
 "metadata": {
  "kernelspec": {
   "display_name": "Python 3 (ipykernel)",
   "language": "python",
   "name": "python3"
  },
  "language_info": {
   "codemirror_mode": {
    "name": "ipython",
    "version": 3
   },
   "file_extension": ".py",
   "mimetype": "text/x-python",
   "name": "python",
   "nbconvert_exporter": "python",
   "pygments_lexer": "ipython3",
   "version": "3.11.4"
  }
 },
 "nbformat": 4,
 "nbformat_minor": 5
}
